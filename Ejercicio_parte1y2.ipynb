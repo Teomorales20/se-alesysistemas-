{
  "nbformat": 4,
  "nbformat_minor": 0,
  "metadata": {
    "colab": {
      "private_outputs": true,
      "provenance": [],
      "include_colab_link": true
    },
    "kernelspec": {
      "name": "python3",
      "display_name": "Python 3"
    },
    "language_info": {
      "name": "python"
    }
  },
  "cells": [
    {
      "cell_type": "markdown",
      "metadata": {
        "id": "view-in-github",
        "colab_type": "text"
      },
      "source": [
        "<a href=\"https://colab.research.google.com/github/Teomorales20/se-alesysistemas-/blob/main/Ejercicio_parte1y2.ipynb\" target=\"_parent\"><img src=\"https://colab.research.google.com/assets/colab-badge.svg\" alt=\"Open In Colab\"/></a>"
      ]
    },
    {
      "cell_type": "markdown",
      "source": [
        "# EJERCICIOS\n",
        "\n",
        "# Parte 1:"
      ],
      "metadata": {
        "id": "51p8SrN__4YM"
      }
    },
    {
      "cell_type": "code",
      "execution_count": null,
      "metadata": {
        "id": "iHLlGueVuIz-"
      },
      "outputs": [],
      "source": [
        "from matplotlib import animation, rc\n",
        "from IPython.display import HTML\n",
        "from ipywidgets import interact,IntSlider\n",
        "import matplotlib as mpl\n",
        "import matplotlib.pyplot as plt\n",
        "import numpy as np\n",
        "import warnings\n",
        "A = 5 # amplitud de la señal\n",
        "T = 10 # segundos de gráfica\n",
        "Fs = 100 # frecuencia de muestreo definida\n",
        "tv = np.arange(-T/2,T/2,1/Fs) #vector de tiempo generado\n",
        "Nm = len(tv) #numero de muestras requeridas\n",
        "N = 10 #numero armonicos\n",
        "wo = 2*np.pi/T # frecuencia fundamental\n",
        "# definir bases\n",
        "phin = np.zeros((Nm,2*N+1),dtype=np.complex128)#crear matriz para guardar bases\n",
        "for n in range(-N,N+1,1):\n",
        "    phin[:,n+N] = np.exp(1j*n*wo*tv) #base de fourier en el intervalo de interés\n",
        "# Redefinir la señal xo como un pulso rectangular centrado en t=0, activado en -tau/2 y desactivado en tau/2\n",
        "tau = T\n",
        "xo = A * (np.heaviside(tv + tau/4, 0) - np.heaviside(tv - tau/4, 0))\n",
        "#calcular espectro -> cambiar según la señal estudiada\n",
        "cn = np.zeros(2*N+1,dtype=np.complex128)\n",
        "nv = np.linspace(-N, N, 2*N+1) #vector num armónicos\n",
        "Cn = ((A)/(nv*np.pi))*(np.sin(nv*(np.pi/2)))\n",
        "Cn[N] = A/2 # nivel dc C_0"
      ]
    },
    {
      "cell_type": "code",
      "source": [
        "#graficar espectro\n",
        "fig = plt.figure(figsize=(8,8))\n",
        "plt.subplot(2,2,1)\n",
        "plt.stem(nv, np.real(Cn), 'r')\n",
        "plt.xlabel(r'$n$',fontsize = 14)\n",
        "plt.ylabel(r'$Re\\{C_n\\}$',fontsize = 14)\n",
        "plt.axis('tight')\n",
        "plt.grid()\n",
        "\n",
        "plt.subplot(2,2,2)\n",
        "plt.stem(nv, np.imag(Cn), 'r')\n",
        "plt.xlabel(r'$n$',fontsize = 14)\n",
        "plt.ylabel(r'$Im\\{C_n\\}$',fontsize = 14)\n",
        "plt.axis('tight')\n",
        "plt.grid()\n",
        "\n",
        "plt.subplot(2,2,3)\n",
        "plt.stem(nv, abs(Cn), 'r')#magnitud del espectro\n",
        "plt.xlabel(r'$n$',fontsize = 14)\n",
        "plt.ylabel(r'$|C_n|$',fontsize = 14)\n",
        "plt.axis('tight')\n",
        "plt.grid()\n",
        "\n",
        "plt.subplot(2,2,4)\n",
        "plt.stem(nv, np.angle(Cn), 'r')#fase del espectro\n",
        "plt.xlabel(r'$n$',fontsize = 14)\n",
        "plt.ylabel(r'$\\langle C_n$',fontsize = 14)\n",
        "plt.axis('tight')\n",
        "plt.grid()\n",
        "\n",
        "fig.tight_layout()"
      ],
      "metadata": {
        "id": "erzGIaN4uL3M"
      },
      "execution_count": null,
      "outputs": []
    },
    {
      "cell_type": "code",
      "source": [
        "Px = A**2 # estimar según señal estudiada\n",
        "def pltest(Na=1):\n",
        "    ind = np.arange(N-Na,N+Na+1)\n",
        "    er = 1- np.sum(abs(Cn[ind])**2)/Px\n",
        "    #señal reconstruida\n",
        "    xe = phin[:,ind].dot(Cn[ind] ) # dot calcula el producto entre vectores\n",
        "    plt.plot(tv,xe,color='b',label='$x_e(t)$') # señal estimada o filtrada\n",
        "    plt.plot(tv,xo,color='r',label='x(t)') #señal original\n",
        "    plt.title('$E_r$=%.2f[%%]' % (100*er),fontsize=16)\n",
        "    plt.xlabel('t[s]')\n",
        "    plt.ylabel('x(t)')\n",
        "    plt.grid()\n",
        "    plt.legend()\n",
        "    plt.show()\n",
        "\n",
        "    return\n",
        "interact(pltest,Na=(1,N,1))"
      ],
      "metadata": {
        "id": "auCINzEBudg3"
      },
      "execution_count": null,
      "outputs": []
    },
    {
      "cell_type": "code",
      "source": [
        "#figura y axes animaciónx\n",
        "fig, ax = plt.subplots(2, 3,figsize=(12,5))\n",
        "#función para gráfico interactivo\n",
        "def update(n):\n",
        "    #actualización regresor Bayesiano\n",
        "    #Graficar prior\n",
        "    ax[0,0].clear()\n",
        "    ax[0,1].clear()\n",
        "    ax[0,2].clear()\n",
        "    ax[1,0].clear()\n",
        "    ax[1,1].clear()\n",
        "    ax[1,2].clear()\n",
        "\n",
        "    #espectro\n",
        "    ind = np.arange(N-n,N+n+1) #armónicos a considerar\n",
        "    ax[0,0].stem(nv, abs(Cn), 'b')#magnitud del espectro\n",
        "    ax[0,0].stem(nv[ind], abs(Cn[ind]), 'r')#magnitud del espectro\n",
        "    ax[0,0].set_xlabel(r'$n$[rad/s]')\n",
        "    ax[0,0].set_ylabel(r'$|C_n|$')\n",
        "\n",
        "    #componentes espectrales\n",
        "    ce = phin[:,ind].dot(np.diag(Cn[ind]) )\n",
        "    ax[0,1].plot(tv,np.real(ce))#componente real\n",
        "    ax[0,1].set_xlabel('t[s]')\n",
        "    ax[0,1].set_ylabel('$Re\\{c_n\\phi_n(t)\\}$')\n",
        "\n",
        "    ax[0,2].plot(tv,np.imag(ce))#componente imaginario\n",
        "    ax[0,2].set_xlabel('t[s]')\n",
        "    ax[0,2].set_ylabel('$Im\\{c_n\\phi_n(t)\\}$')\n",
        "\n",
        "\n",
        "\n",
        "\n",
        "    #reconstruccion\n",
        "    er = 1- np.sum(abs(Cn[ind])**2)/Px\n",
        "    #señal reconstruida\n",
        "    xe = phin[:,ind].dot(Cn[ind] ) # dot calcula el producto entre vectores\n",
        "    #error en t\n",
        "    et = xo - xe\n",
        "\n",
        "    ax[1,1].plot(tv,xo,'r',linewidth=4,label='$x(t)$')\n",
        "    ax[1,1].plot(tv,xe,color='b',label='$x_e(t)$') # señal estimada o filtrada\n",
        "    ax[1,1].plot(tv,et,color='g',label='$e(t)$') # señal estimada o filtrada\n",
        "    ax[1,1].set_title('$E_r$=%.2f[%%]' % (100*er))\n",
        "    ax[1,1].set_xlabel('t[s]')\n",
        "    ax[1,1].set_ylabel('x(t)')\n",
        "    ax[1,1].legend(loc='center left', bbox_to_anchor=(1, 0.5))\n",
        "    ax[1,0].axis('off')\n",
        "    ax[1,2].axis('off')\n",
        "    plt.subplots_adjust(wspace=0.5,hspace=0.7)\n",
        "    plt.show()\n",
        "\n",
        "#desplegar animación\n",
        "anim = animation.FuncAnimation(fig, update, frames=np.arange(0,N+1,1), blit=False)\n",
        "rc('animation', html='jshtml')"
      ],
      "metadata": {
        "id": "a8geG5YkugTq"
      },
      "execution_count": null,
      "outputs": []
    },
    {
      "cell_type": "code",
      "source": [
        "anim"
      ],
      "metadata": {
        "id": "n5V3J5C3v4xO"
      },
      "execution_count": null,
      "outputs": []
    }
  ]
}