{
  "nbformat": 4,
  "nbformat_minor": 0,
  "metadata": {
    "colab": {
      "private_outputs": true,
      "provenance": [],
      "authorship_tag": "ABX9TyPoNqqLP5qbJE7OKgYUSlN9",
      "include_colab_link": true
    },
    "kernelspec": {
      "name": "python3",
      "display_name": "Python 3"
    },
    "language_info": {
      "name": "python"
    }
  },
  "cells": [
    {
      "cell_type": "markdown",
      "metadata": {
        "id": "view-in-github",
        "colab_type": "text"
      },
      "source": [
        "<a href=\"https://colab.research.google.com/github/Teomorales20/se-alesysistemas-/blob/main/Soluci%C3%B3n_Parcial_1_SyS_Luis_Mateo_Morales_.ipynb\" target=\"_parent\"><img src=\"https://colab.research.google.com/assets/colab-badge.svg\" alt=\"Open In Colab\"/></a>"
      ]
    },
    {
      "cell_type": "markdown",
      "source": [
        "#Solución - Parcial 1: Conceptos Basicos y Serie de Fourier Señales y Sistemas 2025-I"
      ],
      "metadata": {
        "id": "CRTJoOiriQEr"
      }
    },
    {
      "cell_type": "markdown",
      "source": [
        "#Preguntas\n",
        "## Ejercicio 1:\n",
        "\n",
        "Se tiene un microprocesador de 5 bits con entrada analoga de -3.3 a 5 [v]. Diseñe el sistema de acondicionamiento y digitalización para la señal:\n",
        "\n",
        "$$x(t) = 20 \\sin(7t - \\pi/2) - 3 \\cos(5t) + 2 \\cos(10t)$$\n",
        "\n",
        "Presente las simulaciones y graficas de los procedimientos más representativos en un cuaderno de Python, incluyendo al menos dos perıodos de la señal estudiada."
      ],
      "metadata": {
        "id": "OiNql9znjyGx"
      }
    },
    {
      "cell_type": "code",
      "source": [
        "#Importamos la biblioteca numpy como np para operaciones numéricas.\n",
        "import numpy as np\n",
        "import matplotlib.pyplot as plt\n",
        "from scipy.spatial.distance import cdist"
      ],
      "metadata": {
        "id": "tz_W46FgoLth"
      },
      "execution_count": null,
      "outputs": []
    },
    {
      "cell_type": "code",
      "source": [
        "#Transformación lineal (cero y pendiente)\n",
        "def my_ceropen(x,ymin = -3.3, ymax = 5): #en general se pueden definir valores por defecto\n",
        "  '''\n",
        "  Codigo base para simular proceso de cero y pendiente\n",
        "  Se ingresa arreglo de numpy y los valores min y max despues de cero y pendiente\n",
        "  '''\n",
        "  xmax = 25\n",
        "  xmin = -25 # x.min()\n",
        "  # Calcula la pendiente (m) de la transformación lineal\n",
        "  m = (ymax - ymin)/(xmax - xmin)\n",
        "  b = ymin - m*xmin # Calcula la intersección con el eje y (b)\n",
        "  yv = m*x + b # Aplica la transformación lineal a la señal de entrada\n",
        "  return yv # Retorna la señal después de la transformación\n",
        "\n",
        "# Define la función para cuantizar la seña\n",
        "def my_cuantizador(yn, vq) : #yn punto a cuantizar, vq vector de estados\n",
        "\n",
        "  Ne = vq.shape[0]  #Obtiene el número de estados de cuantización\n",
        "  dn = cdist(yn.reshape(-1,1),vq.reshape(-1,1)) #Calcula la distancia de cada muestra al vector de estados de cuantización\n",
        "  ind = np.argmin(dn) #posición distancia min\n",
        "  return vq[ind] #Retorna el valor a la distancia min\n"
      ],
      "metadata": {
        "id": "x4L3uRAixmv1"
      },
      "execution_count": null,
      "outputs": []
    },
    {
      "cell_type": "code",
      "source": [
        "#Define los parámetros para las componentes de la señal\n",
        "A1 = 20  # Amplitud de la primera componente (senoidal)\n",
        "A2 = -3  # Amplitud de la primera componente (cosenoidal)\n",
        "A3 = 2   # Amplitud de la segunda componente (cosenoidal)\n",
        "\n",
        "# Períodos de cada componente\n",
        "T_1 = (2/7)*np.pi  # Cos 1\n",
        "T_2 = (2/5)*np.pi  # Cos 2\n",
        "T_3 = (2/10)*np.pi\n",
        "\n",
        "# Frecuencia angular de las componentes\n",
        "w1=7\n",
        "w2=5\n",
        "w3=10\n",
        "\n",
        "# Frecuencia de cada componente (Hz)\n",
        "f1=1/T_1\n",
        "f2=1/T_2\n",
        "f3=1/T_3\n",
        "\n",
        "ti = 0 #tiempo inicial\n",
        "tf = 4*T_2 #tiempo final\n",
        "Fs = 36 # frecuencia de muestreo Hz\n",
        "Ts = 1/Fs # Periodo de muestreo\n",
        "tv = np.arange(ti,tf,Ts) # Vector de tiempo discretizado\n",
        "y = A1*np.sin(w1*tv-np.pi/2)+ A2*np.cos(w2*tv)+ A3*np.cos(w3*tv) #Generación de la señal original en el tiempo\n",
        "\n",
        "#cero y pendiente\n",
        "ymin = -3.3\n",
        "ymax = 5\n",
        "nbits = 5\n",
        "plt.plot(y,label='y(t)') #continua"
      ],
      "metadata": {
        "id": "6SpPU2Q_xuto"
      },
      "execution_count": null,
      "outputs": []
    },
    {
      "cell_type": "code",
      "source": [
        "ycs = my_ceropen(y, ymin,ymax)#cero y pendiente\n",
        "ve = np.linspace(ymin,ymax,2**nbits)\n",
        "\n",
        "#Acercar al cajon más cercano\n",
        "for i in range(ycs.shape[0]):\n",
        "   if i==0: #primera muestra\n",
        "     yq = my_cuantizador(ycs[i],ve)\n",
        "   else:\n",
        "     yq = np.append(yq,my_cuantizador(ycs[i],ve)) #apilar datos cuantizando si i>0\n",
        "\n",
        "#Anchar los cajones a lo largo de tv\n",
        "for v in ve:\n",
        "  plt.plot(tv,v*np.ones(len(tv)))#estados de cuantización\n",
        "\n",
        "plt.stem(tv,yq , linefmt=\"b\", markerfmt=\"go\", basefmt=\"\", label=\"Señal Discretizada\")\n",
        "plt.plot(tv,ycs,label='ycp(t)') #discreta cero y pendiente\n",
        "plt.plot(tv,yq,c='y',marker='o',label='ydig', linewidth=2) #cuantizada + discreta = digital\n",
        "plt.legend()\n",
        "plt.grid()\n",
        "plt.xlabel('t')\n",
        "plt.ylabel('Amplitud')\n",
        "plt.show()\n",
        "print(\"Señal discretizada\")"
      ],
      "metadata": {
        "id": "wfwqHaxlx4jj"
      },
      "execution_count": null,
      "outputs": []
    },
    {
      "cell_type": "markdown",
      "source": [
        "#Ejercicio 2:\n",
        "\n",
        "Cual es la señal obtenida en tiempo discreto al utilizar un conversor analogo digital con frecuencia de muestreo de $5kHz$, aplicado a la senal:\n",
        "\n",
        "$x(t) = 3 cos(1000πt) + 5 sin(2000πt) + 10 cos(11000πt)? $.\n",
        "\n",
        "Realizar la simulacion del proceso de discretizacion. En caso de que la discretizacion no sea apropiada, diseñe implemente un conversor adecuado para la senal estudiada.   "
      ],
      "metadata": {
        "id": "1Cq5wO9_oMXm"
      }
    },
    {
      "cell_type": "code",
      "source": [
        "import numpy as np\n",
        "import matplotlib.pyplot as plt\n",
        "from scipy import signal\n",
        "\n",
        "# Parámetros de la señal\n",
        "f1 = 500   # Hz\n",
        "f2 = 1000  # Hz\n",
        "f3 = 5500  # Hz\n",
        "fs_high = 100000  # Frecuencia de muestreo alta para simular señal \"continua\"\n",
        "t_high = np.arange(0, 0.01, 1/fs_high)  # Vector de tiempo para la señal \"continua\" 0.01 segundos (para mejor visualización)\n",
        "\n",
        "# Generar la señal original\n",
        "x_high = (3 * np.cos(2 * np.pi * f1 * t_high) + # Componente cosenoidal a 500 Hz\n",
        "          5 * np.sin(2 * np.pi * f2 * t_high) + # Componente senoidal a 1000 Hz\n",
        "          10 * np.cos(2 * np.pi * f3 * t_high)) # Componente cosenoidal a 5500 Hz\n",
        "\n",
        "# Diseñar filtro antialiasing (Butterworth)\n",
        "nyquist = 0.5 * fs_high # Calcula la frecuencia de Nyquist para la alta frecuencia de muestreo\n",
        "cutoff = 2500  # Frecuencia de corte del filtro\n",
        "order = 6 #Orden del filtro\n",
        "normal_cutoff = cutoff / nyquist # Normaliza la frecuencia de corte respecto a la frecuencia de Nyquist\n",
        "b, a = signal.butter(order, normal_cutoff, btype='low') #Diseña un filtro Butterworth pasa-bajo\n",
        "\n",
        "# Aplicar filtro a la señal \"continua\"\n",
        "x_filtered = signal.filtfilt(b, a, x_high)\n",
        "\n",
        "# Muestrear a 5 kHz después del filtro\n",
        "fs_low = 5000  # 5 kHz\n",
        "factor = int(fs_high / fs_low) # Calcula el factor de submuestreo\n",
        "x_filtered_low = x_filtered[::factor] # Submuestrea la señal filtrada\n",
        "t_low = t_high[::factor] # Obtiene el vector de tiempo correspondiente a la señal submuestreada\n",
        "\n",
        "# Calcular FFTs (Transformada Rápida de Fourier)\n",
        "fft_high = np.fft.rfft(x_high) # Calcula la FFT de la señal original (solo parte real)\n",
        "freqs_high = np.fft.rfftfreq(len(x_high), 1/fs_high) # Obtiene las frecuencias correspondientes a la FFT de la señal original\n",
        "fft_filtered = np.fft.rfft(x_filtered_low) # Calcula la FFT de la señal discretizada después del filtro\n",
        "freqs_low = np.fft.rfftfreq(len(x_filtered_low), 1/fs_low) # Obtiene las frecuencias correspondientes a la FFT de la señal discretizada\n",
        "\n",
        "# Graficar en tiempo y frecuencia\n",
        "plt.figure(figsize=(12, 10))\n",
        "\n",
        "# Señal original en tiempo\n",
        "plt.subplot(3, 2, 1) # Crea el primer subplot (3 filas, 2 columnas, posición 1)\n",
        "plt.plot(t_high, x_high, label='Original') # Grafica la señal original en el tiempo\n",
        "plt.title('Señal original (Dominio del tiempo)')\n",
        "plt.xlabel('Tiempo [s]')\n",
        "plt.xlim(0, 0.005)  # Limita el eje x para mostrar los primeros 5 ms\n",
        "\n",
        "# Señal original en frecuencia\n",
        "plt.subplot(3, 2, 2) #Crea el segundo subplot\n",
        "plt.plot(freqs_high, np.abs(fft_high))\n",
        "plt.title('Espectro original')\n",
        "plt.xlabel('Frecuencia [Hz]')\n",
        "plt.xlim(0, 6000) # Limita el eje x para mostrar frecuencias hasta 6000 Hz\n",
        "\n",
        "# Señal filtrada en tiempo\n",
        "plt.subplot(3, 2, 3) # Crea el tercer subplot\n",
        "plt.plot(t_high, x_filtered, 'orange', label='Filtrada')\n",
        "plt.title('Señal después del filtro antialiasing')\n",
        "plt.xlabel('Tiempo [s]')\n",
        "plt.xlim(0, 0.005)  # Limita el eje x para mostrar los primeros 5 ms\n",
        "\n",
        "# Señal filtrada en frecuencia\n",
        "plt.subplot(3, 2, 4) # Crea el cuarto subplo\n",
        "plt.plot(freqs_high, np.abs(np.fft.rfft(x_filtered)), color='orange')\n",
        "plt.title('Espectro después del filtro')\n",
        "plt.xlabel('Frecuencia [Hz]')\n",
        "plt.xlim(0, 6000) # Limita el eje x para mostrar frecuencias hasta 6000 Hz\n",
        "\n",
        "# Señal discretizada en tiempo\n",
        "plt.subplot(3, 2, 5) # Crea el quinto subplot\n",
        "plt.stem(t_low, x_filtered_low, linefmt='C3-', markerfmt='C3o', basefmt='C3-')\n",
        "plt.title('Señal discretizada (5 kHz)')\n",
        "plt.xlabel('Tiempo [s]')\n",
        "plt.xlim(0, 0.005) # Limita el eje x para mostrar los primeros 5 ms\n",
        "\n",
        "# Señal discretizada en frecuencia\n",
        "plt.subplot(3, 2, 6) # Crea el sexto subplot\n",
        "plt.plot(freqs_low, np.abs(fft_filtered), color='C3')\n",
        "plt.title('Espectro discretizado')\n",
        "plt.xlabel('Frecuencia [Hz]')\n",
        "plt.xlim(0, 2500) # Limita el eje x para mostrar frecuencias hasta 2500 Hz\n",
        "\n",
        "plt.tight_layout() # Ajusta automáticamente los parámetros de los subplots para evitar superposiciones\n",
        "plt.show()  #Muestra la figura con todos los subplots\n",
        "\n",
        "# Valores de las muestras discretas (primeras 10 muestras)\n",
        "print(\"\\nPrimeras 10 muestras de la señal discretizada:\")\n",
        "print(np.round(x_filtered_low[:10], 4)) # Imprime las primeras 10 muestras redondeadas a 4 decimales\n",
        "\n",
        "# Explicación\n",
        "print(\"Conclusión:\") # Imprime un encabezado para la conclusión\n",
        "print(\"- La frecuencia de muestreo de 5 kHz no es adecuada para la componente de 5500 Hz (aparece aliasing a 500 Hz).\")\n",
        "print(\"- Se implementó un filtro antialiasing de 2500 Hz para eliminar frecuencias altas.\")\n",
        "print(\"- La señal discretizada correctamente contiene solo las componentes de 500 Hz y 1000 Hz.\")"
      ],
      "metadata": {
        "id": "DTfQjzyRpFlD"
      },
      "execution_count": null,
      "outputs": []
    },
    {
      "cell_type": "markdown",
      "source": [
        "#Ejercicio 3:\n",
        "\n",
        "La distancia media entre dos señales $x1(t), x2(t) ∈ R, C,$ se\n",
        "puede expresar a partir de la potencia media:\n",
        "\n",
        "$$d(x_1,x_2)=\\bar{P}_{x_1-x_2}= \\lim_{T\\to\\infty}\\frac{1}{T}\\int_{T} \\lvert x_1(t)-x_2(t)\\rvert^{2}\\,dt.$$\n",
        "\n",
        "Sean $x1(t) y$ $x2(t):$\n",
        "\n",
        "$$\n",
        "x_1(t) = A \\cos(\\omega_0 t), \\quad \\omega_0 = \\frac{2\\pi}{T}, \\quad T, A \\in \\mathbb{R}^+$$\n",
        "\n",
        "$$\n",
        "x_2(t) =\n",
        "\\begin{cases}\n",
        "1, & \\text{si } 0 \\leq t < \\frac{T}{4} \\\\\n",
        "-1, & \\text{si } \\frac{T}{4} \\leq t < \\frac{3T}{4} \\\\\n",
        "1, & \\text{si } \\frac{3T}{4} \\leq t < T\n",
        "\\end{cases}$$\n",
        "\n",
        "¿Cual es la distancia media entre las señales?. Corrobore sus desarrollos con Sympy."
      ],
      "metadata": {
        "id": "wXq-OU_zpGKm"
      }
    },
    {
      "cell_type": "code",
      "source": [
        "import sympy as sp\n",
        "\n",
        "# Se definen las variables simbolicas a utilizar.\n",
        "A,t, T = sp.symbols('A t T', real=True, positive=True)\n",
        "w0 = 2 * sp.pi / T\n",
        "# Definición de las señales\n",
        "x1 = A*sp.cos(w0 * t)\n",
        "\n",
        "# Definición por partes de ambas funciones, esto mediante .piecewise,que permite que una función tenga distintos valores en diferentes intervalos de t.\n",
        "x2 = sp.Piecewise(\n",
        "    (1, (t >= 0) & (t < T/4)),\n",
        "    (-1, (t >= T/4) & (t < 3*T/4)),\n",
        "    (1, (t >= 3*T/4) & (t < T))\n",
        ")\n",
        "\n",
        "# Función a integrar se define como f: (calcula la diferencia al cuadrado entre las dos señales x1, x2)\n",
        "f = (x1 - x2)**2\n",
        "\n",
        "# Se emplea la integral tramo por tramo, para al final sumarlas.\n",
        "integral = sp.integrate(f, (t, 0, T/4)) + sp.integrate(f, (t, T/4, 3*T/4)) + sp.integrate(f, (t, 3*T/4, T))\n",
        "\n",
        "# Para este punto se tiene en cuenta que la distancia se define como la división de la integral dada entre el periodo.\n",
        "distancia_media = integral / T\n",
        "\n",
        "# Simplificación de la expresión de la distancia\n",
        "distancia_media_simplificada = sp.simplify(distancia_media) # Simplifica la expresión de la distancia media\n",
        "\n",
        "\n",
        "distancia_media_simplificada # Muestra la expresión simplificada de la distancia media"
      ],
      "metadata": {
        "id": "30d-qphsvINR"
      },
      "execution_count": null,
      "outputs": []
    },
    {
      "cell_type": "markdown",
      "source": [
        "#Ejercicio 4:\n",
        "\n",
        "Sea $x′′(t)$ la segunda derivada de la senal $x(t),$ donde $t ∈\n",
        "[ti , tf ].$ Demuestre que los coeficientes de la serie exponencial de Fourier se pueden calcular segun:\n",
        "\n",
        "$$c_n = \\frac{1}{(t_i - t_f)n^2 \\omega_0^2} \\int_{t_i}^{t_f} x''(t) e^{-jn\\omega_0 t} \\, dt, \\quad n \\in \\mathbb{Z}$$\n",
        "\n",
        "¿Como se pueden calcular los coeficientes $an$ y $bn$ desde\n",
        "$x′′ (t)$ en la serie trigonometrica de Fourier?.\n",
        "\n",
        "Encuentre el espectro de Fourier, su magnitud, fase, parte\n",
        "real, parte imaginaria y el error relativo de reconstruccion´\n",
        "para n∈{0, ±1, ±2, ±3, ±4, ±5}, a partir de $x′′ (t)$ para la\n",
        "senal $x(t)$ en la Figura 1 . Compruebe el espectro obtenido\n",
        "con la estimacion a partir de $x(t)$ y presente las respectivas\n",
        "simulaciones sobre Python.\n",
        "\n",
        "![image.png](data:image/png;base64,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)"
      ],
      "metadata": {
        "id": "UQY5FL2YsC2A"
      }
    },
    {
      "cell_type": "code",
      "source": [
        "'''Importar las bibliotecas necesarias'''\n",
        "from ipywidgets import interact,IntSlider\n",
        "\n",
        "#Parametros  relacionados a la forma y escala de la señal a generar\n",
        "A=1 #Amplitud de la señal\n",
        "d2=2\n",
        "d1=1\n",
        "\n",
        "#Generar señal parametrizada en función del tiempo\n",
        "T = 2*d2 # Duración total de la señal para ser graficada\n",
        "Fo = 1/T # Frecuencia fundamental de la señal\n",
        "Fs = 1000*Fo # Frecuencia de muestreo\n",
        "tv = np.arange(-T/2,T/2,1/Fs) #vector de tiempo, el cual esta formado valores espaciados en secuencia dentro del intervalo.\n",
        "Nm = len(tv) #Número de estados de cuantización.\n",
        "\n",
        "#Genera valores basados en la figura geometrica del trapecio, siendo x, la variable con la que esta trabajara, y a,b,c,d serán los que definiran la forma del mismo.\n",
        "def funcion_trapecio(x, a, b, c, d):\n",
        "    \"\"\"\n",
        "\n",
        "    Parámetros:\n",
        "x: Un arreglo de NumPy con los valores del eje x.\n",
        "a: La coordenada x donde comienza la pendiente ascendente del trapecio.\n",
        "b: La coordenada x donde comienza la parte plana (meseta) del trapecio.\n",
        "c: La coordenada x donde termina la parte plana (meseta) del trapecio.\n",
        "d: La coordenada x donde termina la pendiente descendente del trapecio.\n",
        "    \"\"\"\n",
        "    return np.maximum(0, np.minimum((x - a) / (b - a), np.minimum(1, (d - x) / (d - c))))\n",
        "\n",
        "# Ejemplo de uso\n",
        "x = funcion_trapecio(tv, -d2, -d1, d1, d2)\n",
        "\n",
        "\n",
        "\n",
        "#graficar señal original\n",
        "plt.plot(tv,x,'r',linewidth=4)\n",
        "plt.grid()\n",
        "plt.xlabel(\"t[s]\",fontsize = 14)\n",
        "plt.ylabel(\"x(t)\",fontsize = 14)\n",
        "plt.show()"
      ],
      "metadata": {
        "id": "-oXS1dhfvMZ-"
      },
      "execution_count": null,
      "outputs": []
    },
    {
      "cell_type": "code",
      "source": [
        "N = 5 #numero armonicos\n",
        "wo = 2*np.pi/T # frecuencia fundamental\n",
        "# Creación de bases, funciones de base para las series exponenciales de Fourier, en esta se usaran exponenciales complejos como base.\n",
        "phin = np.zeros((Nm,2*N+1),np.complex128)#arreglo de ceros que guardara las bases exponenciales complejas.\n",
        "for n in range(-N,N+1,1):\n",
        "    phin[:,n+N] = np.exp(1j*n*wo*tv)#base de fourier en el intervalo de interés, va ir con el armonico de -a hacia +a. Donde calculara el exponencial complejo de cada armonico n.\n",
        "\n",
        "#Calcula el espectro,pero con los coeficientes de series de Fourier basados en la señal del trapecio hecha previamente.\n",
        "cn = np.zeros(2*N+1,np.complex128)\n",
        "nv = np.linspace(-N, N, 2*N+1) #Vector de armonicos\n",
        "Cn = (-2*(np.cos(nv*np.pi)-np.cos(nv*np.pi*0.5)))/(np.pi*2*nv*2)\n",
        "Cn[N] = 3/4 #Nivel DC (Componente real)"
      ],
      "metadata": {
        "id": "2JDgD7a-I9YO"
      },
      "execution_count": null,
      "outputs": []
    },
    {
      "cell_type": "code",
      "source": [
        "#graficar espectro\n",
        "fig = plt.figure(figsize=(8,8))\n",
        "plt.subplot(2,2,1)\n",
        "plt.stem(nv, np.real(Cn), 'r')\n",
        "plt.xlabel(r'$nw_o$[rad/s]',fontsize = 14)\n",
        "plt.ylabel(r'$Re\\{C_n\\}$',fontsize = 14)\n",
        "plt.axis('tight')\n",
        "plt.grid()\n",
        "\n",
        "plt.subplot(2,2,2)\n",
        "plt.stem(nv, np.imag(Cn), 'r')\n",
        "plt.xlabel(r'$nw_o$[rad/s]',fontsize = 14)\n",
        "plt.ylabel(r'$Im\\{C_n\\}$',fontsize = 14)\n",
        "plt.axis('tight')\n",
        "plt.grid()\n",
        "\n",
        "plt.subplot(2,2,3)\n",
        "plt.stem(nv, abs(Cn), 'r')#magnitud del espectro\n",
        "plt.xlabel(r'$nw_o$[rad/s]',fontsize = 14)\n",
        "plt.ylabel(r'$|C_n|$',fontsize = 14)\n",
        "plt.axis('tight')\n",
        "plt.grid()\n",
        "\n",
        "plt.subplot(2,2,4)\n",
        "plt.stem(nv, np.angle(Cn), 'r')#fase del espectro\n",
        "plt.xlabel(r'$nw_o$[rad/s]',fontsize = 14)\n",
        "plt.ylabel(r'$\\langle C_n$',fontsize = 14)\n",
        "plt.axis('tight')\n",
        "plt.grid()\n",
        "\n",
        "fig.tight_layout()"
      ],
      "metadata": {
        "id": "cPnwUKAAJEIL"
      },
      "execution_count": null,
      "outputs": []
    },
    {
      "cell_type": "code",
      "source": [
        "Px = 2/3 # Potencia de la señal original\n",
        "\n",
        "# La función pltest, ayuda a la reconstrucción y grafico de la señal\n",
        "def pltest(Na=1):\n",
        "    ind = np.arange(N-Na,N+Na+1)\n",
        "    er = 1- np.sum(abs(Cn[ind])**2)/Px\n",
        "    #señal reconstruida\n",
        "    xe = phin[:,ind].dot(Cn[ind] ) # dot calcula el producto entre vectores\n",
        "    plt.plot(tv,xe,color='b',label='$x_e(t)$') # señal estimada o filtrada\n",
        "    plt.plot(tv,x,color='r',label='x(t)') #señal original\n",
        "    plt.title('$E_r$=%.2f[%%]' % (100*er),fontsize=16)\n",
        "    plt.xlabel('t[s]')\n",
        "    plt.ylabel('x(t)')\n",
        "    plt.grid()\n",
        "    plt.legend()\n",
        "    plt.show()\n",
        "\n",
        "    return\n",
        "interact(pltest,Na=(1,N,1))"
      ],
      "metadata": {
        "id": "Y_5de1gbJF7b"
      },
      "execution_count": null,
      "outputs": []
    }
  ]
}